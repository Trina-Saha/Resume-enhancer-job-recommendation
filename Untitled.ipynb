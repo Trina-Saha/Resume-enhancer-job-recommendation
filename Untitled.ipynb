{
 "cells": [
  {
   "cell_type": "code",
   "execution_count": 3,
   "id": "25cdffa1-602a-4f26-9b9a-782651d70571",
   "metadata": {},
   "outputs": [
    {
     "name": "stdout",
     "output_type": "stream",
     "text": [
      "CSV file updated successfully.\n"
     ]
    }
   ],
   "source": [
    "import pandas as pd\n",
    "import random\n",
    "\n",
    "# Read existing CSV file\n",
    "existing_df = pd.read_csv('Job_db.csv')\n",
    "\n",
    "# Define locations\n",
    "locations = ['Kolkata', 'Bangalore', 'Chennai', 'Gurgaon', 'Mumbai', 'Pune', 'Noida', 'Hyderabad']\n",
    "\n",
    "# Fill 'Location' column with random values for all rows\n",
    "existing_df['Location'] = random.choices(locations, k=len(existing_df))\n",
    "\n",
    "# Save updated DataFrame to CSV file\n",
    "existing_df.to_csv('Job_db2.csv', index=False)\n",
    "\n",
    "print(\"CSV file updated successfully.\")\n",
    "\n",
    "\n"
   ]
  },
  {
   "cell_type": "code",
   "execution_count": 2,
   "id": "44fe612b-0d9c-4cc8-b3cd-27336c8e04c2",
   "metadata": {},
   "outputs": [
    {
     "data": {
      "text/plain": [
       "0         Noida\n",
       "1       Kolkata\n",
       "2        Mumbai\n",
       "3          Pune\n",
       "4       Chennai\n",
       "5         Noida\n",
       "6       Kolkata\n",
       "7       Gurgaon\n",
       "8       Chennai\n",
       "9       Kolkata\n",
       "10      Gurgaon\n",
       "11        Noida\n",
       "12         Pune\n",
       "13      Chennai\n",
       "14    Hyderabad\n",
       "15      Gurgaon\n",
       "16      Kolkata\n",
       "17      Kolkata\n",
       "18      Kolkata\n",
       "19      Gurgaon\n",
       "20      Gurgaon\n",
       "21      Kolkata\n",
       "22    Hyderabad\n",
       "23    Hyderabad\n",
       "24        Noida\n",
       "25         Pune\n",
       "26      Gurgaon\n",
       "27      Kolkata\n",
       "28         Pune\n",
       "29        Noida\n",
       "30      Kolkata\n",
       "31      Chennai\n",
       "32      Gurgaon\n",
       "33         Pune\n",
       "34         Pune\n",
       "35         Pune\n",
       "36      Chennai\n",
       "37         Pune\n",
       "38        Noida\n",
       "39      Chennai\n",
       "40      Kolkata\n",
       "41    Bangalore\n",
       "42      Chennai\n",
       "43      Chennai\n",
       "44    Bangalore\n",
       "45    Bangalore\n",
       "46      Kolkata\n",
       "47       Mumbai\n",
       "48    Hyderabad\n",
       "49         Pune\n",
       "Name: Location, dtype: object"
      ]
     },
     "execution_count": 2,
     "metadata": {},
     "output_type": "execute_result"
    }
   ],
   "source": [
    "existing_df['Location'].head(50)"
   ]
  },
  {
   "cell_type": "code",
   "execution_count": null,
   "id": "736624de-df50-484e-9f2e-bc5f2161815c",
   "metadata": {},
   "outputs": [],
   "source": []
  }
 ],
 "metadata": {
  "kernelspec": {
   "display_name": "Python 3 (ipykernel)",
   "language": "python",
   "name": "python3"
  },
  "language_info": {
   "codemirror_mode": {
    "name": "ipython",
    "version": 3
   },
   "file_extension": ".py",
   "mimetype": "text/x-python",
   "name": "python",
   "nbconvert_exporter": "python",
   "pygments_lexer": "ipython3",
   "version": "3.11.5"
  }
 },
 "nbformat": 4,
 "nbformat_minor": 5
}
